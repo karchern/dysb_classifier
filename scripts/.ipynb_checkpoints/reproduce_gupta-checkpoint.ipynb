{
 "cells": [
  {
   "cell_type": "code",
   "execution_count": null,
   "id": "2a9f1b58-ab6d-48e5-819a-26cdf2ac05c0",
   "metadata": {},
   "outputs": [
    {
     "name": "stderr",
     "output_type": "stream",
     "text": [
      "Warning message:\n",
      "“replacing previous import ‘vctrs::data_frame’ by ‘tibble::data_frame’ when loading ‘dplyr’”\n",
      "── \u001b[1mAttaching packages\u001b[22m ───────────────────────────────────────────────────────────────────────────────────────────────────────────────────────────────────────────────────────────────────────────── tidyverse 1.3.0 ──\n",
      "\n",
      "\u001b[32m✔\u001b[39m \u001b[34mggplot2\u001b[39m 3.3.0     \u001b[32m✔\u001b[39m \u001b[34mpurrr  \u001b[39m 0.3.4\n",
      "\u001b[32m✔\u001b[39m \u001b[34mtibble \u001b[39m 3.0.1     \u001b[32m✔\u001b[39m \u001b[34mdplyr  \u001b[39m 1.0.0\n",
      "\u001b[32m✔\u001b[39m \u001b[34mtidyr  \u001b[39m 1.1.0     \u001b[32m✔\u001b[39m \u001b[34mstringr\u001b[39m 1.4.0\n",
      "\u001b[32m✔\u001b[39m \u001b[34mreadr  \u001b[39m 1.3.1     \u001b[32m✔\u001b[39m \u001b[34mforcats\u001b[39m 0.5.0\n",
      "\n",
      "Warning message:\n",
      "“package ‘ggplot2’ was built under R version 3.6.3”\n",
      "Warning message:\n",
      "“package ‘stringr’ was built under R version 3.6.3”\n",
      "── \u001b[1mConflicts\u001b[22m ──────────────────────────────────────────────────────────────────────────────────────────────────────────────────────────────────────────────────────────────────────────────── tidyverse_conflicts() ──\n",
      "\u001b[31m✖\u001b[39m \u001b[34mdplyr\u001b[39m::\u001b[32mfilter()\u001b[39m masks \u001b[34mstats\u001b[39m::filter()\n",
      "\u001b[31m✖\u001b[39m \u001b[34mdplyr\u001b[39m::\u001b[32mlag()\u001b[39m    masks \u001b[34mstats\u001b[39m::lag()\n",
      "\n",
      "Loading required package: mlr\n",
      "\n",
      "Warning message:\n",
      "“package ‘mlr’ was built under R version 3.6.3”\n",
      "Loading required package: ParamHelpers\n",
      "\n",
      "Warning message:\n",
      "“package ‘ParamHelpers’ was built under R version 3.6.3”\n",
      "'mlr' is in maintenance mode since July 2019. Future development\n",
      "efforts will go into its successor 'mlr3' (<https://mlr3.mlr-org.com>).\n",
      "\n",
      "Loading required package: phyloseq\n",
      "\n"
     ]
    }
   ],
   "source": [
    "library(hms)\n",
    "library(tidyverse)\n",
    "library(readxl)\n",
    "library(ggplot2)\n",
    "library(SIAMCAT)\n",
    "library(data.table)\n",
    "library(vegan)\n",
    "library(RColorBrewer)"
   ]
  },
  {
   "cell_type": "code",
   "execution_count": null,
   "id": "d7a3b091-8766-4c6f-82bf-30a2e0da87b6",
   "metadata": {},
   "outputs": [],
   "source": [
    "load('/g/scb2/zeller/karcher/dysb_classif/data/siamcat/profiles_merged_with_metadata.rimage')"
   ]
  },
  {
   "cell_type": "code",
   "execution_count": null,
   "id": "178be785-46e0-4806-8106-0a58e5bea4b9",
   "metadata": {},
   "outputs": [],
   "source": [
    "# load their assoc file\n",
    "gupta_assocs <- read_tsv(\"../data//gupta_et_al/gupta_assocs.tab\")\n",
    "guptaTaxaInMOTUS <- dataMetaAdaptedTruncWideAll %>%\n",
    "as.data.frame() %>%\n",
    "mutate(taxon = rownames(.)) %>%\n",
    "# some mOTU clusters are of the form\n",
    "#Bifidobacterium catenulatum/kashiwanohense\t\n",
    "# To make this findable in an ad-hoc manner, do this      \n",
    "mutate(taxon = map_chr(taxon, function(x) {\n",
    "    if (str_detect(x, \"/\")) {\n",
    "        genus <- str_split(x, \" \")[[1]][1]\n",
    "        species_ids <- str_split(x, \"/\")[[1]]\n",
    "        species_ids <- map2_chr(species_ids, 1:length(species_ids), function(x, i) {\n",
    "            if (i == 1) {\n",
    "                return(str_split(x, \" \")[[1]][2])\n",
    "            } else {\n",
    "                return(str_split(x, \" \")[[1]][1])\n",
    "            }\n",
    "        })\n",
    "        return(str_c(genus, species_ids, sep = \" \", collapse = '/'))\n",
    "    } else {\n",
    "        return(x)\n",
    "    }\n",
    "})) %>% filter(map_lgl(taxon, function(x) {\n",
    "    hits <- map_lgl(gupta_assocs$`Species name`, function(y) {\n",
    "        str_detect(string = x, pattern = y) %>%\n",
    "        return()\n",
    "    })\n",
    "    any(hits) %>% return()\n",
    "})) %>% \n",
    "pivot_longer(-taxon)"
   ]
  },
  {
   "cell_type": "code",
   "execution_count": null,
   "id": "49da6079-1996-4c22-b21a-1d41d901b0f2",
   "metadata": {},
   "outputs": [],
   "source": [
    "print(str_c(\"We can find a total of \", guptaTaxaInMOTUS %>% pull(taxon) %>% unique() %>% length(), \n",
    "            \" mOTU clusters in mOTUs. There are a total of 50 taxa reported as part of the GMHI.\"))"
   ]
  },
  {
   "cell_type": "code",
   "execution_count": null,
   "id": "ac474192-0bed-4c93-ab04-41ec0bde37ad",
   "metadata": {},
   "outputs": [],
   "source": [
    "gupta_assocs <- gupta_assocs %>%\n",
    "rename(prevControls = `Prevalence in healthy samples, PH (%)`,\n",
    "      prevCases = `Prevalence in nonhealthy samples, PN (%)`,\n",
    "      prevDifference = `Difference, PH − PN (%)`,\n",
    "      prevFC = `Fold change, PH/PN or PN/PH`) %>%\n",
    "mutate(prevDifference = map_chr(prevDifference, function(x) str_replace(x, \"–\", \"-\"))) %>%\n",
    "mutate(prevDifference = map_chr(prevDifference, function(x) str_replace(x, \"−\", \"-\"))) %>%\n",
    "mutate(prevDifference = as.numeric(prevDifference)) %>%\n",
    "mutate(prevFC = as.numeric(prevFC))"
   ]
  },
  {
   "cell_type": "code",
   "execution_count": null,
   "id": "fe856e67-39d2-49bf-80e1-dd6884199758",
   "metadata": {},
   "outputs": [],
   "source": [
    "guptaTaxaInMOTUS <- guptaTaxaInMOTUS %>%\n",
    "rename(Sample_ID = name,\n",
    "      relativeAbundance = value) %>%\n",
    "mutate(taxon = map_chr(taxon, function(x) str_split(x, \" \\\\[\")[[1]][1])) %>%\n",
    "mutate(taxon = ifelse(taxon == \"Fusobacterium nucleatum subsp. animalis\", \"Fusobacterium nucleatum\", taxon)) %>%\n",
    "mutate(taxon = ifelse(taxon == \"Fusobacterium nucleatum subsp. vincentii\", \"Fusobacterium nucleatum\", taxon)) %>%                         \n",
    "# some mOTU clusters encompass the same species\n",
    "# group, sum up rel. abundances\n",
    "group_by(Sample_ID, taxon) %>%\n",
    "summarize(relativeAbundance = sum(relativeAbundance)) %>%                       \n",
    "ungroup() %>%\n",
    "group_by(taxon) %>%                       \n",
    "left_join(metaDataWGS %>%\n",
    "          mutate(Sample_ID = rownames(.)), by = 'Sample_ID') %>%\n",
    "nest() %>%\n",
    "mutate(prevControls = map_dbl(data, function(x) x %>% filter(caseControls == \"control\") %>% pull(relativeAbundance) %>% {mean(. > 1E-5)})) %>%\n",
    "mutate(prevCases = map_dbl(data, function(x) x %>% filter(caseControls == \"case\") %>% pull(relativeAbundance) %>% {mean(. > 1E-5)})) %>%\n",
    "mutate(prevDifference = prevControls - prevCases) %>%\n",
    "mutate(prevFC = prevControls/prevCases) %>%\n",
    "select(-data) %>%\n",
    "rename(`Species name` = taxon) %>%\n",
    "# Split mOTU clusters with more than one mapped species for easier mapping                       \n",
    "  group_by(`Species name`) %>%\n",
    "  nest() %>%\n",
    "  mutate(data = map2(data, `Species name`, function(x, s) {\n",
    "    \n",
    "    if (!str_detect(s, \"/\")[[1]]) {\n",
    "      #tmp <- str_split(s, \"/\")[[1]]\n",
    "      out <- tibble(tmp = s, \n",
    "                    prevCases = x$prevCases,\n",
    "                    prevDifference = x$prevDifference,\n",
    "                    prevControls = x$prevControls,\n",
    "                    prevFC = x$prevFC) %>%\n",
    "      rename(`Species name` = tmp)\n",
    "    } else {\n",
    "      tmp <- str_split(s, \"/\")[[1]]\n",
    "      out <- tibble(tmp = tmp, \n",
    "                    prevCases = x$prevCases,\n",
    "                    prevControls = x$prevControls,\n",
    "                    prevDifference = x$prevDifference,\n",
    "                    prevFC = x$prevFC) %>%\n",
    "      rename(`Species name` = tmp)\n",
    "      return(out)\n",
    "    }\n",
    "  })) %>%\n",
    "select(-`Species name`) %>%\n",
    "unnest() %>%\n",
    "mutate(`Species name` = `Species name1`) %>%\n",
    "select(-`Species name1`)\n"
   ]
  },
  {
   "cell_type": "code",
   "execution_count": null,
   "id": "6f496d84-3de0-4dee-8864-1938f4b5cbc3",
   "metadata": {},
   "outputs": [],
   "source": [
    "guptaTaxaInMOTUS <- guptaTaxaInMOTUS %>%\n",
    "left_join(gupta_assocs, by = 'Species name', suffix = c(\".ours\", \".gupta\")) %>%\n",
    "rename(direction = Group) %>%\n",
    "mutate(higherInControls.gupta = ifelse(direction == \"H+\", TRUE,  FALSE)) %>%\n",
    "select(-direction) %>%\n",
    "mutate(higherInControls.ours = prevControls.ours > prevCases.ours) %>%\n",
    "relocate(`Species name`, prevControls.ours, prevControls.gupta,\n",
    "         prevCases.ours, prevCases.gupta,\n",
    "         prevDifference.ours, prevDifference.gupta,\n",
    "         prevFC.ours, prevFC.gupta,\n",
    "         higherInControls.ours, higherInControls.gupta) %>%\n",
    "                       mutate(prevControls.ours = prevControls.ours * 100,\n",
    "                             prevCases.ours = prevCases.ours * 100,\n",
    "                             prevDifference.ours = prevDifference.ours * 100) %>%\n",
    "filter(!is.na(prevControls.gupta))\n",
    "\n",
    "\n",
    "guptaTaxaInMOTUS <- guptaTaxaInMOTUS[abs(guptaTaxaInMOTUS$prevControls.ours - 3.35839598997494) > 1E-8, ]"
   ]
  },
  {
   "cell_type": "code",
   "execution_count": null,
   "id": "50c92fe8-d60c-4150-9cc4-fa71dc4fbfcf",
   "metadata": {},
   "outputs": [],
   "source": [
    "options(repr.plot.width=4, repr.plot.height=4)\n",
    "ggplot(guptaTaxaInMOTUS, aes(x = prevControls.ours, y = prevControls.gupta)) +\n",
    "geom_point() +\n",
    "theme_bw() +\n",
    "ggtitle(\"Prevalence (controls)\") +\n",
    "xlim(c(0, 80)) +\n",
    "ylim(c(0, 80)) +\n",
    "geom_abline(intercept = 0, slope = 1)"
   ]
  },
  {
   "cell_type": "code",
   "execution_count": null,
   "id": "ab9eada8-ac21-4d9c-a29d-764471d941cf",
   "metadata": {},
   "outputs": [],
   "source": [
    "options(repr.plot.width=4, repr.plot.height=4)\n",
    "ggplot(guptaTaxaInMOTUS, aes(x = prevCases.ours, y = prevCases.gupta)) +\n",
    "geom_point() +\n",
    "theme_bw() +\n",
    "ggtitle(\"Prevalence (cases)\") +\n",
    "xlim(c(0, 80)) +\n",
    "ylim(c(0, 80)) +\n",
    "geom_abline(intercept = 0, slope = 1)"
   ]
  },
  {
   "cell_type": "markdown",
   "id": "bcffe2f5-87d8-4831-9d03-afb668e7f3b4",
   "metadata": {},
   "source": [
    "options(repr.plot.width=4, repr.plot.height=4)\n",
    "\n",
    "p1 <- ggplot(guptaTaxaInMOTUS, aes(x = prevDifference.ours, y = prevDifference.gupta)) +\n",
    "geom_point() +\n",
    "theme_bw() +\n",
    "ggtitle(\"Prevalence differences\") +\n",
    "xlim(c(-30, 30)) +\n",
    "ylim(c(-30, 30)) +\n",
    "geom_abline(intercept = 0, slope = 1)\n",
    "\n",
    "print(p1)"
   ]
  },
  {
   "cell_type": "code",
   "execution_count": null,
   "id": "6ba7ec9f-1243-4003-ab17-05bcab352143",
   "metadata": {},
   "outputs": [],
   "source": [
    "options(repr.plot.width=4, repr.plot.height=4)\n",
    "\n",
    "p1 <- ggplot(guptaTaxaInMOTUS %>%\n",
    "             mutate(prevFC.ours = ifelse(prevFC.ours < 1, 1/prevFC.ours, prevFC.ours)), aes(x = prevFC.ours, y = prevFC.gupta)) +\n",
    "geom_point() +\n",
    "theme_bw() +\n",
    "ggtitle(\"Prevalence fold changes\") +\n",
    "#xlim(c(-30, 30)) +\n",
    "#ylim(c(-30, 30)) +\n",
    "geom_abline(intercept = 0, slope = 1)\n",
    "\n",
    "print(p1)"
   ]
  },
  {
   "cell_type": "code",
   "execution_count": null,
   "id": "2ad4dd08-da9d-4967-958c-eaf43448a8ff",
   "metadata": {},
   "outputs": [],
   "source": [
    "ggplot(guptaTaxaInMOTUS, aes(x = prevDifference.ours, y = prevDifference.gupta)) + geom_point()"
   ]
  },
  {
   "cell_type": "code",
   "execution_count": null,
   "id": "b6f9b112-1505-4ed8-96bd-ed9b70ce7a57",
   "metadata": {},
   "outputs": [],
   "source": []
  }
 ],
 "metadata": {
  "kernelspec": {
   "display_name": "R",
   "language": "R",
   "name": "ir"
  },
  "language_info": {
   "codemirror_mode": "r",
   "file_extension": ".r",
   "mimetype": "text/x-r-source",
   "name": "R",
   "pygments_lexer": "r",
   "version": "3.6.1"
  }
 },
 "nbformat": 4,
 "nbformat_minor": 5
}
