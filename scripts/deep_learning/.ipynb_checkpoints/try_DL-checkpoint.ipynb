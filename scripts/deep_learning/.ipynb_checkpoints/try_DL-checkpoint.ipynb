{
 "cells": [
  {
   "cell_type": "raw",
   "id": "7b0f380d-d9ee-467c-bb16-4011343ec54c",
   "metadata": {},
   "source": [
    "import sklearn\n",
    "print('sklearn version: ', sklearn.__version__)\n",
    "\n",
    "import seaborn\n",
    "print('seaborn version: ', seaborn.__version__)\n",
    "\n",
    "import pandas\n",
    "print('pandas version: ', pandas.__version__)\n",
    "\n",
    "from tensorflow import keras\n",
    "print('Keras version: ', keras.__version__)"
   ]
  },
  {
   "cell_type": "raw",
   "id": "bcd50803-f524-4ea8-b7f3-109da2521768",
   "metadata": {},
   "source": [
    "import tensorflow"
   ]
  },
  {
   "cell_type": "raw",
   "id": "5dd7b12c-7601-4278-9928-bbb6757bae52",
   "metadata": {},
   "source": []
  }
 ],
 "metadata": {
  "kernelspec": {
   "display_name": "Python 3 (ipykernel)",
   "language": "python",
   "name": "python3"
  },
  "language_info": {
   "codemirror_mode": {
    "name": "ipython",
    "version": 3
   },
   "file_extension": ".py",
   "mimetype": "text/x-python",
   "name": "python",
   "nbconvert_exporter": "python",
   "pygments_lexer": "ipython3",
   "version": "3.10.6"
  }
 },
 "nbformat": 4,
 "nbformat_minor": 5
}
